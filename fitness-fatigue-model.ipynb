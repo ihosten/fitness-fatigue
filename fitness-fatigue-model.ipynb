{
 "cells": [
  {
   "cell_type": "markdown",
   "metadata": {},
   "source": [
    "Fitness - fatigue modelling with Banister\n",
    "====\n",
    "\n",
    "This notebook deals with the Banister models \\cite{banister1975systems, busso1994} on the evaluation and prediction of athlete performance in function of fatigue and fitness. The general equation is given below:\n",
    "\n",
    "\\begin{equation}\n",
    "p_{t}=p_{0}+k_{a} \\sum_{s=0}^{t-1} e^{-(t-s) / \\tau_{a}} w_{s}-k_{f} \\sum_{s=0}^{t-1} e^{-(t-s) / \\tau_{f}} w_s\n",
    "\\label{eq:banister}\n",
    "\\end{equation}\n",
    "\n",
    "* $p_{t}$ is the modelled performance at time $t$\n",
    "* $p_0$ is the initial performance level\n",
    "* $k_a$ and $k_f$ are fitness and fatigue magnitude factor\n",
    "* $\\tau_a$ and $\\tau_f$ are fitness and fatigue time decay\n",
    "* $w_s$ is the known training load per time unit, or ' the known training load per week (or day) from the first week of training to the week (or day) preceding the performance'"
   ]
  },
  {
   "cell_type": "markdown",
   "metadata": {},
   "source": [
    "There are however some ***issues with the Banister model*** which are described in detail in \\cite{Hellard2006}.\n",
    "1. The model parameters suffer from poor identifiability, which seems logical as the mechanisms could correct for eachother. This feature leads to a lot of variability in the resulting parameter estimates. The model somehow has been reported to predict reasonably well. The model does have 4 parameters that can bring this in. \n",
    "2. On top of that there is usually only limited data, between 10 and 20 data points per athlete, to fit the model.\n",
    "3. The Banister model parameters might not be so physically accurate, the model plausibility could be low.\n",
    "\n",
    "There appears to be the upside that the model is stable and parameter estimates do not change much (on top of the other variability?) when a data point is left out.\n",
    "\n",
    "\n",
    "Things to check on \\cite{Hellard2006} still:\n",
    "1. how was the model prediction assessed?\n",
    "2. how was bootstrapping used?"
   ]
  },
  {
   "cell_type": "markdown",
   "metadata": {},
   "source": [
    "# Preparations"
   ]
  },
  {
   "cell_type": "markdown",
   "metadata": {},
   "source": [
    "## Imports\n",
    "Python packages needed"
   ]
  },
  {
   "cell_type": "code",
   "execution_count": null,
   "metadata": {
    "code_folding": []
   },
   "outputs": [],
   "source": [
    "#basic\n",
    "import pandas as pd\n",
    "import numpy as np\n",
    "import os, sys\n",
    "# plotting\n",
    "import matplotlib.pyplot as plt\n",
    "import matplotlib.gridspec as gridspec\n",
    "%matplotlib inline\n",
    "import seaborn as sns\n",
    "from matplotlib import cm\n",
    "from palettable.scientific import sequential\n",
    "# calculations\n",
    "from scipy.optimize import brute, differential_evolution\n",
    "from pyswarm import pso"
    "# sensitivity analysis\n",
    "from SALib.analyze import sobol"

   ]
  },
  {
   "cell_type": "markdown",
   "metadata": {},
   "source": [
    "## Visualisation settings"
   ]
  },
  {
   "cell_type": "code",
   "execution_count": null,
   "metadata": {},
   "outputs": [],
   "source": [
    "# naming of parameters in plots\n",
    "parname_dict = {\n",
    "    'k_a' : '$k_a$',\n",
    "    'k_f' : '$k_f$',\n",
    "    'tau_a' : r'$\\tau_a$',\n",
    "    'tau_f' : r'$\\tau_f$',\n",
    "    'p_0' : '$p_0$',\n",
    "}"
   ]
  },
  {
   "cell_type": "code",
   "execution_count": null,
   "metadata": {},
   "outputs": [],
   "source": [
    "# overall plot settings\n",
    "sns.set_style('whitegrid')\n",
    "plt.rcParams['axes.labelsize'] = 16\n",
    "plt.rcParams['axes.titlesize'] = 18\n",
    "plt.rcParams['legend.fontsize'] = 16"
   ]
  },
  {
   "cell_type": "markdown",
   "metadata": {},
   "source": [
    "# Experimental data"
   ]
  },
  {
   "cell_type": "code",
   "execution_count": null,
   "metadata": {
    "code_folding": []
   },
   "outputs": [],
   "source": [
    "# get all sporter dataset names\n",
    "dataset_names = [f for f in os.listdir() if 'modellen.xlsx' in f]\n",
    "sheetnames = ['Edwards', 'Banister', 'Lucia', 'sRPE', 'TSS']\n",
    "dataset_dict = dict() #dictionary to store all data in\n",
    "for d in dataset_names:\n",
    "    # read sporter excel file and store in dictionary, referenced by sporter name\n",
    "    dataset_dict[d[:-14]] = dict()\n",
    "    for s in sheetnames:\n",
    "        dataset_dict[d[:-14]][s] = pd.read_excel(d, sheet_name=s, index_col=0).loc[:,\n",
    "                   ['Datum', 'TL', 'TT (W)', 'PTE', 'Fitness', 'NTE', 'Fatigue',\n",
    "                   'TT performance', 'Performance', 'Modelfit']] #only store columns of interest"
   ]
  },
  {
   "cell_type": "code",
   "execution_count": null,
   "metadata": {
    "code_folding": []
   },
   "outputs": [],
   "source": [
    "#create figure\n",
    "fig, ax  = plt.subplots(figsize=(12,3))\n",
    "#select dataset\n",
    "sporter = 'Wietse'\n",
    "datatype = 'Lucia'\n",
    "data2plot = dataset_dict[sporter][datatype]\n",
    "#plot data\n",
    "ax.plot(data2plot.loc[:,'TT (W)'],'*', label='Data '+sporter)\n",
    "#format the figure\n",
    "ax.set_xlim(0,100);\n",
    "ax.set_xlabel('Time, in days');\n",
    "ax.set_ylabel('Performance,\\nin arbitrary units');\n",
    "ax.legend();"
   ]
  },
  {
   "cell_type": "markdown",
   "metadata": {},
   "source": [
    "# Model"
   ]
  },
  {
   "cell_type": "markdown",
   "metadata": {},
   "source": [
    "## Banister model\n",
    "\n",
    "\\begin{equation}\n",
    "p_{t}=p_{0}+k_{a} \\sum_{s=0}^{t-1} e^{-(t-s) / \\tau_{a}} w_{s}-k_{f} \\sum_{s=0}^{t-1} e^{-(t-s) / \\tau_{f}} w_s\n",
    "\\label{eq:banister2}\n",
    "\\end{equation}\n",
    "\n",
    "Below is the implementation for Eq.\\ref{eq:banister}. *The same notation is used, thus the meaning of the inputs to the model function* `ff_banister` *can be found under Eq.\\ref{eq:banister}*."
   ]
  },
  {
   "cell_type": "markdown",
   "metadata": {},
   "source": [
    "### Implementation"
   ]
  },
  {
   "cell_type": "code",
   "execution_count": null,
   "metadata": {
    "code_folding": [
     0,
     9,
     22
    ]
   },
   "outputs": [],
   "source": [
    "def sum_exp(t, k, tau, w_s):\n",
    "    \"\"\"calculation for summation exponential term (is this a convolution?)\n",
    "    needed for the calculation of the fitness and fatigue terms\"\"\"\n",
    "    retval = np.zeros((len(t),1))\n",
    "    for i in range(1,len(t)-1):\n",
    "        retval[i] = np.sum(np.exp(-(i-np.arange(i+1))/tau)*w_s[:i+1])\n",
    "        \n",
    "    return k*retval\n",
    "\n",
    "def ff_banister(t, p_0, k_a, k_f, tau_a, tau_f, w_t, tt_W):\n",
    "    \"\"\"\n",
    "    returns the performance at time t calculated with all the input parameters\n",
    "    \"\"\"\n",
    "    p_t = p_0 + sum_exp(t, k_a, tau_a, w_t) - sum_exp(t, k_f, tau_f, w_t)\n",
    "    \n",
    "    for ti, tv in enumerate(tt_W):\n",
    "        if tv>0.1:\n",
    "            p_t[ti] = p_t[ti] + 2*(k_f-k_a)*w_t[ti-1]\n",
    "            print(ti)\n",
    "    \n",
    "    return p_t\n",
    "\n",
    "def kobes_way(t, p_0, k_a, k_f, tau_a, tau_f, w_t, tt_W):\n",
    "    \"\"\"\n",
    "    try exactly the  code from the excel file\n",
    "    \"\"\"\n",
    "    retval = np.zeros((len(t),1))\n",
    "    retval[0] = p_0\n",
    "    pte = np.zeros((len(t),1))\n",
    "    nte = np.zeros((len(t),1))\n",
    "    \n",
    "    for i in range(1,len(t)):\n",
    "        pte[i] = (pte[i-1]*np.exp(-1/tau_a) + w_t[i])\n",
    "        nte[i] = (nte[i-1]*np.exp(-1/tau_f) + w_t[i])\n",
    "        if tt_W[i]<0.1:\n",
    "            retval[i] = p_0 + (pte[i])*k_a - (nte[i])*k_f\n",
    "        else:\n",
    "            retval[i] = p_0 + (pte[i-1]*np.exp(-1/tau_a))*k_a - (nte[i-1]*np.exp(-1/tau_f))*k_f\n",
    "            \n",
    "    simres = np.array((retval, pte, nte)).reshape(3, len(t)).transpose()\n",
    "        \n",
    "    return pd.DataFrame(simres, index=t, columns=['overall', 'fit', 'fat'])"
   ]
  },
  {
   "cell_type": "markdown",
   "metadata": {},
   "source": [
    "### Retrieving data\n",
    "\n",
    "Select an athlete out of Thibaux, Wietse or Tom"
   ]
  },
  {
   "cell_type": "code",
   "execution_count": null,
   "metadata": {},
   "outputs": [],
   "source": [
    "# model inputs\n",
    "sporter = 'Thibaux'\n",
    "data4mod = dataset_dict[sporter]['TSS']\n",
    "t = data4mod.index.values\n",
    "data4mod[['TT (W)']] = data4mod[['TT (W)']].fillna(value=0)\n",
    "data4mod[['TL']] = data4mod[['TL']].fillna(value=0)\n",
    "w_t = data4mod[['TL']].values.ravel()\n",
    "tt_w = data4mod[['TT (W)']].values.ravel()"
   ]
  },
  {
   "cell_type": "markdown",
   "metadata": {},
   "source": [
    "### Verifying model implementation\n",
    "\n",
    "Checking whether simulated outcomes are the same as those of Kobe V."
   ]
  },
  {
   "cell_type": "code",
   "execution_count": null,
   "metadata": {},
   "outputs": [],
   "source": [
    "# fit the model using parameters from the excel and compare with Kobe's dank excel code\n",
    "fig, ax = plt.subplots(figsize=(12,5))\n",
    "mod_out = kobes_way(t, 240, 0.592627747, 0.830655943, 11.23205693, 6.327383027, w_t, tt_w)\n",
    "plt.plot(t, data4mod.loc[:,'Modelfit'], label='Kobe')\n",
    "plt.plot(mod_out['overall'] , '--', label='Michael')\n",
    "# plt.plot(t, data4mod.loc[:,'TL'], '*', label='TL')\n",
    "#plot data\n",
    "ax.plot(t[tt_w>0.1], tt_w[tt_w>0.1],'*', label='Data '+sporter)\n",
    "plt.legend();\n"
   ]
  },
  {
   "cell_type": "markdown",
   "metadata": {},
   "source": [
    "## Optimisation\n",
    "Visualise the objective function \n",
    "Conduct a global optimisation"
   ]
  },
  {
   "cell_type": "markdown",
   "metadata": {},
   "source": [
    "### Objective function"
   ]
  },
  {
   "cell_type": "code",
   "execution_count": null,
   "metadata": {},
   "outputs": [],
   "source": [
    "# objective function\n",
    "def mod_err_banister(pars, t_loc, w_t_loc, tt_w_loc, err_type='sse', p_0=240):\n",
    "    \"\"\"\n",
    "    pars {list}: contains the parameter values of the Banister model in the following order:\n",
    "        [k_a, k_f, tau_a, tau_f]\n",
    "    t_loc {np.array 1D}: time denotation (in days)\n",
    "    w_t_loc {np.array 1D}: values from TL column in data\n",
    "    tt_w_loc {np.array 1D}: values from TT (W) column in data\n",
    "    err_type {string}: specifies model error calculation type, standard sum of squared errors\n",
    "    \"\"\"\n",
    "    # parameter values\n",
    "    [k_a, k_f, tau_a, tau_f] = pars\n",
    "    # calculate model output\n",
    "    mod_out = kobes_way(t_loc, p_0, k_a, k_f, tau_a, tau_f, w_t_loc, tt_w_loc)\n",
    "    # reformat data for model error calculation\n",
    "    data2compare = tt_w_loc.copy()\n",
    "    data2compare[tt_w_loc<0.1] = np.nan\n",
    "    # model error calculation\n",
    "    if err_type == 'sse': #sum of squared errors\n",
    "        mod_err = np.nansum(np.square(mod_out.overall.values - data2compare))\n",
    "        \n",
    "    return mod_err"
   ]
  },
  {
   "cell_type": "markdown",
   "metadata": {},
   "source": [
    "### Actual optimisation\n",
    "\n",
    "A brute force is carried out, which checks the model fit at a range of specified parameter value combinations.\n",
    "This is mainly to visualise the objective function."
   ]
  },
  {
   "cell_type": "code",
   "execution_count": null,
   "metadata": {
    "code_folding": []
   },
   "outputs": [],
   "source": [
    "par_ranges = (slice(0, 3, 0.1), slice(0, 3, 0.1),\n",
    "             slice(0, 60, 1), slice(0,60,1))\n",
    "\n",
    "par_ranges_dict = {\n",
    "    'k_a' : np.arange(0,3,step=0.1),\n",
    "    'k_f' : np.arange(0,3,step=0.1),\n",
    "    'tau_a' : np.arange(0,60,step=1),\n",
    "    'tau_f' : np.arange(0,60,step=1),\n",
    "}\n",
    "\n",
    "lowbounds = [l[0] for l in list(par_ranges_dict.values())]\n",
    "uppbounds = [l[-1] for l in list(par_ranges_dict.values())]"
   ]
  },
  {
   "cell_type": "code",
   "execution_count": null,
   "metadata": {
    "code_folding": []
   },
   "outputs": [],
   "source": [
    "results = brute(mod_err_banister, par_ranges, args=(t, w_t, tt_w), full_output=True, disp=True, workers=32)"
   ]
  },
  {
   "cell_type": "code",
   "execution_count": 37,
   "metadata": {
    "ExecuteTime": {
     "end_time": "2020-03-25T08:48:15.406127Z",
     "start_time": "2020-03-25T08:48:15.401127Z"
    }
   },
   "outputs": [],
   "source": [
    "xeval = results[2]\n",
    "feval = results[3]"
   ]
  },
  {
   "cell_type": "markdown",
   "metadata": {},
   "source": [
    "### Visualising results"
   ]
  },
  {
   "cell_type": "code",
   "execution_count": 38,
   "metadata": {
    "ExecuteTime": {
     "end_time": "2020-03-25T08:48:18.613311Z",
     "start_time": "2020-03-25T08:48:15.413128Z"
    },
    "code_folding": []
   },
   "outputs": [
    {
     "data": {
      "image/png": "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\n",
      "text/plain": [
       "<Figure size 720x504 with 5 Axes>"
      ]
     },
     "metadata": {},
     "output_type": "display_data"
    }
   ],
   "source": [
    "# how to plot this\n",
    "\n",
    "fig_brutres = plt.figure(figsize=(10,7), constrained_layout=True)\n",
    "kleurmap = cm.viridis_r #sequential.Bilbao_10.mpl_colormap\n",
    "cont_nlev = 100\n",
    "\n",
    "spec = gridspec.GridSpec(ncols=41, nrows=2, figure=fig_brutres)\n",
    "ax11 = fig_brutres.add_subplot(spec[0, :20])\n",
    "ax12 = fig_brutres.add_subplot(spec[0, 20:-1])\n",
    "ax21 = fig_brutres.add_subplot(spec[1, :20])\n",
    "ax22 = fig_brutres.add_subplot(spec[1, 20:-1])\n",
    "ax_cb = fig_brutres.add_subplot(spec[:,-1])\n",
    "# we plot each optimal objective function value for a combination of two selected parameters\n",
    "# normalising to the same colour scale\n",
    "normF = plt.Normalize(20, 100)\n",
    "\n",
    "# plot optimal value found in function of combination of values of two parameters\n",
    "# right now I have no idea but to rewrite this manually\n",
    "# bc changing the parameter selection also changes the indexing\n",
    "\n",
    "# k_a vs k_f\n",
    "dims = [0,1]\n",
    "parnames = [list(par_ranges_dict.keys())[i] for i in dims]\n",
    "disc1 = np.shape(feval)[dims[0]]\n",
    "disc2 = np.shape(feval)[dims[1]]\n",
    "# storage of parameter value combinations\n",
    "p1 = par_ranges_dict[parnames[0]]\n",
    "p2 = par_ranges_dict[parnames[1]]\n",
    "P1, P2 = np.meshgrid(p1, p2)\n",
    "F = P1*2 +P2\n",
    "\n",
    "#loop over first variable\n",
    "for i in range(disc1):\n",
    "    #loop over second variable\n",
    "    for j in range(disc2):\n",
    "        F[j,i] = np.sqrt(np.min(feval[i,j,:,:]))\n",
    "\n",
    "# plot contour\n",
    "mappab = ax11.contourf(P1, P2, F, levels=cont_nlev, norm=normF, cmap=kleurmap)\n",
    "ax11.set_xlabel(parname_dict[parnames[0]])\n",
    "ax11.set_ylabel(parname_dict[parnames[1]]);\n",
    "\n",
    "# tau\n",
    "dims = [2,3]\n",
    "parnames = [list(par_ranges_dict.keys())[i] for i in dims]\n",
    "disc1 = np.shape(feval)[dims[0]]\n",
    "disc2 = np.shape(feval)[dims[1]]\n",
    "# storage of parameter value combinations\n",
    "p1 = par_ranges_dict[parnames[0]]\n",
    "p2 = par_ranges_dict[parnames[1]]\n",
    "P1, P2 = np.meshgrid(p1, p2)\n",
    "F = P1*2 +P2\n",
    "\n",
    "#loop over first variable\n",
    "for i in range(disc1):\n",
    "    #loop over second variable\n",
    "    for j in range(disc2):\n",
    "        F[j,i] = np.sqrt(np.min(feval[:,:,i,j]))\n",
    "\n",
    "# plot contour\n",
    "ax12.contourf(P1, P2, F, levels=cont_nlev, norm=normF, cmap=kleurmap)\n",
    "ax12.set_xlabel(parname_dict[parnames[0]])\n",
    "ax12.set_ylabel(parname_dict[parnames[1]]);\n",
    "\n",
    "\n",
    "# fitness\n",
    "dims = [0,2]\n",
    "parnames = [list(par_ranges_dict.keys())[i] for i in dims]\n",
    "disc1 = np.shape(feval)[dims[0]]\n",
    "disc2 = np.shape(feval)[dims[1]]\n",
    "# storage of parameter value combinations\n",
    "p1 = par_ranges_dict[parnames[0]]\n",
    "p2 = par_ranges_dict[parnames[1]]\n",
    "P1, P2 = np.meshgrid(p1, p2)\n",
    "F = P1*2 +P2\n",
    "\n",
    "#loop over first variable\n",
    "for i in range(disc1):\n",
    "    #loop over second variable\n",
    "    for j in range(disc2):\n",
    "#         print(j)\n",
    "        F[j,i] = np.sqrt(np.min(feval[i,:,j,:]))\n",
    "\n",
    "# plot contour\n",
    "ax21.contourf(P1, P2, F, levels=cont_nlev, norm=normF, cmap=kleurmap)\n",
    "ax21.set_xlabel(parname_dict[parnames[0]])\n",
    "ax21.set_ylabel(parname_dict[parnames[1]]);\n",
    "\n",
    "# fatigue\n",
    "dims = [1,3]\n",
    "parnames = [list(par_ranges_dict.keys())[i] for i in dims]\n",
    "disc1 = np.shape(feval)[dims[0]]\n",
    "disc2 = np.shape(feval)[dims[1]]\n",
    "# storage of parameter value combinations\n",
    "p1 = par_ranges_dict[parnames[0]]\n",
    "p2 = par_ranges_dict[parnames[1]]\n",
    "P1, P2 = np.meshgrid(p1, p2)\n",
    "F = P1*2 +P2\n",
    "\n",
    "#loop over first variable\n",
    "for i in range(disc1):\n",
    "    #loop over second variable\n",
    "    for j in range(disc2):\n",
    "#         print(j)\n",
    "        F[j,i] = np.sqrt(np.min(feval[:,i,:,j]))\n",
    "\n",
    "# plot contour\n",
    "ax22.contourf(P1, P2, F, levels=cont_nlev, norm=normF, cmap=kleurmap)\n",
    "ax22.set_xlabel(parname_dict[parnames[0]])\n",
    "ax22.set_ylabel(parname_dict[parnames[1]]);\n",
    "\n",
    "\n",
    "# colorbar\n",
    "cb = fig_brutres.colorbar(mappab, cax=ax_cb)\n",
    "cb.set_label('absolute model error', fontsize=16)\n",
    "\n",
    "fig_brutres.savefig(sporter+'_brutres.png', dpi=300)"
   ]
  },
  {
   "cell_type": "code",
   "execution_count": 40,
   "metadata": {
    "ExecuteTime": {
     "end_time": "2020-03-25T08:48:34.684230Z",
     "start_time": "2020-03-25T08:48:34.678230Z"
    }
   },
   "outputs": [],
   "source": [
    "# store results\n",
    "# optim_parval = pd.DataFrame(index=['Thibaux', 'Wietse', 'Tom'], columns = ['k_a', 'k_f', 'tau_a', 'tau_f'])\n",
    "optim_parval.loc[sporter,:] = results[0]"
   ]
  },
  {
   "cell_type": "markdown",
   "metadata": {},
   "source": [
    "## Spark and stop model\n",
    "\n",
    "Or 'prikkel' and 'stop' model: calculation of the ideal times to respectively have the last big exercise and when to stop exercising prior to a contest (when the athlete should peak). Need to check this\n",
    "\n",
    "\n",
    "\n",
    "This is calculated based on the fitter Banister model parameters"
   ]
  },
  {
   "cell_type": "code",
   "execution_count": 12,
   "metadata": {
    "ExecuteTime": {
     "end_time": "2020-04-29T10:16:24.193118Z",
     "start_time": "2020-04-29T10:16:24.186118Z"
    }
   },
   "outputs": [],
   "source": [
    "# the model\n",
    "def spark_stop(pars):\n",
    "    \"\"\"\n",
    "    inputs:\n",
    "        - pars {list}: contains the parameter values of the Banister model in the following order:\n",
    "        [k_a, k_f, tau_a, tau_f]\n",
    "    \"\"\"\n",
    "    # parameter values\n",
    "    [k_a, k_f, tau_a, tau_f] = pars    \n",
    "    spark = (tau_a*tau_f/(tau_a - tau_f)) * np.log((k_f*tau_a)/(k_a*tau_f))\n",
    "    stop = (tau_a*tau_f/(tau_a - tau_f)) * np.log(k_f/k_a)\n",
    "    return spark, stop"
   ]
  },
  {
   "cell_type": "code",
   "execution_count": 46,
   "metadata": {
    "ExecuteTime": {
     "end_time": "2020-03-26T09:06:39.174401Z",
     "start_time": "2020-03-26T09:06:39.166401Z"
    }
   },
   "outputs": [
    {
     "data": {
      "text/plain": [
       "(13.862279104863335, 5.243317704184276)"
      ]
     },
     "execution_count": 46,
     "metadata": {},
     "output_type": "execute_result"
    }
   ],
   "source": [
    "spark_stop([0.634,0.716,9.541,7.812])"
   ]
  },
  {
   "cell_type": "markdown",
   "metadata": {},
   "source": [
    "### Sensitivity analysis"
   ]
  },
  {
   "cell_type": "code",
   "execution_count": 46,
   "metadata": {
    "ExecuteTime": {
     "end_time": "2020-04-29T16:50:39.483123Z",
     "start_time": "2020-04-29T16:50:39.436120Z"
    }
   },
   "outputs": [],
   "source": [
    "from SALib.analyze import sobol, delta\n",
    "from SALib.sample import saltelli, latin\n",
    "from SALib.plotting import bar, morris"
   ]
  },
  {
   "cell_type": "code",
   "execution_count": 47,
   "metadata": {
    "ExecuteTime": {
     "end_time": "2020-04-29T16:50:54.876004Z",
     "start_time": "2020-04-29T16:50:54.564986Z"
    }
   },
   "outputs": [],
   "source": [
    "# Define the model inputs\n",
    "problem = {\n",
    "    'num_vars': 4,\n",
    "    'names': ['k_a', 'k_f', 'tau_a', 'tau_f'],\n",
    "    'bounds': [[0, 3],[0, 3],[0, 60],[0, 60]]\n",
    "}\n",
    "\n",
    "# Generate samples\n",
    "param_values = latin.sample(problem, 10000)\n",
    "\n",
    "# Run model (example)\n",
    "Y = np.array([spark_stop(p) for p in param_values])"
   ]
  },
  {
   "cell_type": "code",
   "execution_count": 55,
   "metadata": {
    "ExecuteTime": {
     "end_time": "2020-04-29T16:55:34.222981Z",
     "start_time": "2020-04-29T16:55:28.097631Z"
    }
   },
   "outputs": [
    {
     "name": "stdout",
     "output_type": "stream",
     "text": [
      "Parameter delta delta_conf S1 S1_conf\n",
      "k_a 1.864309 0.458045 0.003752 0.005086\n",
      "k_f 1.660780 1.199863 0.005676 0.005845\n",
      "tau_a 27.933898 9.532176 0.003719 0.006506\n",
      "tau_f 14.502592 16.184929 0.003691 0.003998\n"
     ]
    }
   ],
   "source": [
    "# Perform analysis\n",
    "Y_in = Y[:,1].copy()\n",
    "good_values = ~((sobol_in<0) | (np.isinf(sobol_in)) | (np.isnan(sobol_in)))\n",
    "Y_in = Y_in[good_values] \n",
    "X_in = param_values[good_values,:]\n",
    "Si = delta.analyze(problem, X_in, Y_in, print_to_console=True)"
   ]
  },
  {
   "cell_type": "code",
   "execution_count": null,
   "metadata": {},
   "outputs": [],
   "source": []
  },
  {
   "cell_type": "code",
   "execution_count": null,
   "metadata": {},
   "outputs": [],
   "source": []
  },
  {
   "cell_type": "code",
   "execution_count": null,
   "metadata": {},
   "outputs": [],
   "source": []
  },
  {
   "cell_type": "code",
   "execution_count": null,
   "metadata": {},
   "outputs": [],
   "source": []
  },
  {
   "cell_type": "markdown",
   "metadata": {},
   "source": [
    "## Wishlist\n",
    "\n",
    "* model that relates parameters to optimal training time - model sensitivity\n",
    "* validation: \n",
    "    * apply average model (average of fitted parameters?) to all datasets\n",
    "    * leave one out (opletten welke punten)\n",
    "* measurement method: check results global optimisation\n",
    "    * consistency over sporters (tau should be similar for sporters)\n",
    "    \n",
    "    \n",
    "**To do**\n",
    "* refine grid: request however not possible, lowering one tenth... otherwise 324 trillion simulations\n",
    "* Banister model global output for each method + effect on stop and spark time\n",
    "    * global optimisation each method\n",
    "    * sensitivity analysis on stop/spark time outcome\n",
    "    "
   ]
  },
  {
   "cell_type": "markdown",
   "metadata": {},
   "source": [
    "### Global optimisation for every exercise data collection method"
   ]
  },
  {
   "cell_type": "markdown",
   "metadata": {},
   "source": [
    "#### Particle swarm optimisation\n",
    "\n",
    "The [particle swarm optimisation (PSO) technique](https://en.wikipedia.org/wiki/Particle_swarm_optimization) is a strategy for global optimisation. It is easy to conduct in parallel."
   ]
  },
  {
   "cell_type": "code",
   "execution_count": null,
   "metadata": {},
   "outputs": [],
   "source": [
    "dict_optires_pso = dict()\n",
    "n_opts=3\n",
    "for sporter in list(dataset_dict.keys()):\n",
    "    dict_optires_pso[sporter]=dict()\n",
    "    for s in sheetnames:\n",
    "        data4mod = dataset_dict[sporter][s]\n",
    "        t = data4mod.index.values\n",
    "        data4mod[['TT (W)']] = data4mod[['TT (W)']].fillna(value=0)\n",
    "        data4mod[['TL']] = data4mod[['TL']].fillna(value=0)\n",
    "        w_t = data4mod[['TL']].values.ravel()\n",
    "        tt_w = data4mod[['TT (W)']].values.ravel()\n",
    "        dict_optires_pso[sporter][s] = pd.DataFrame(index = np.arange(n_opts), columns=list(par_ranges_dict.keys())+['f_opt'])\n",
    "        \n",
    "        # conduct a few optimisations\n",
    "        for o in range(n_opts):\n",
    "            pso_x, pso_f = pso(mod_err_banister, lowbounds, uppbounds, ieqcons=[], f_ieqcons=None, args=(t, w_t, tt_w), kwargs={},\n",
    "                   swarmsize=1280, omega=0.7, phip=0.2, phig=0.7, maxiter=1000, minstep=1e-8, minfunc=1e-8, debug=True, processes=16)\n",
    "            dict_optires_pso[sporter][s].iloc[o,:-1] = pso_x\n",
    "            dict_optires_pso[sporter][s].iloc[o,-1] = pso_f"
   ]
  },
  {
   "cell_type": "code",
   "execution_count": null,
   "metadata": {},
   "outputs": [],
   "source": [
    "# format results as a pandas dataframe\n",
    "mind_optires_pso = pd.MultiIndex.from_product([list(dict_optires_pso.keys()), sheetnames, np.arange(n_opts)])\n",
    "df_optires_pso = pd.DataFrame(index=mind_optires_pso, columns=list(par_ranges_dict.keys())+['f_opt'])\n",
    "\n",
    "# get all optimisation results from the relevant dictionary\n",
    "for sporter in list(dataset_dict.keys()):\n",
    "    for s in sheetnames:\n",
    "        df_optires_pso.loc[(sporter, s),:] = dict_optires_pso[sporter][s].values\n",
    "\n",
    "# calculate absolute error, assuming model objective function was SSE\n",
    "df_optires_pso.loc[:,'abs_err'] = (df_optires_pso.loc[:,'f_opt'].values)**(1/2)"
   ]
  },
  {
   "cell_type": "markdown",
   "metadata": {},
   "source": [
    "#### Effect on spark and stop time"
   ]
  },
  {
   "cell_type": "code",
   "execution_count": null,
   "metadata": {},
   "outputs": [],
   "source": []
  },
  {
   "cell_type": "markdown",
   "metadata": {},
   "source": [
    "# References\n",
    "\n",
    "(<a id=\"cit-banister1975systems\" href=\"#call-banister1975systems\">Banister, Calvert <em>et al.</em>, 1975</a>) Banister E W, Calvert T W, Savage M V <em>et al.</em>, ``_A systems model of training for athletic performance_'', Aust J Sport Med, vol. 7, number 3, pp. 57--61,  1975.\n",
    "\n",
    "(<a id=\"cit-busso1994\" href=\"#call-busso1994\">Busso, Candau <em>et al.</em>, 1994</a>) Busso Thierry, Candau Robin and Lacour Jean Ren{\\'{e}}, ``_Fatigue and fitness modelled from the effects of training on performance_'', Eur J Appl Physiol Occup Physiol, vol. 69, number 1, pp. 50--54, jan 1994.  [online](https://www.researchgate.net/publication/15242395)\n",
    "\n",
    "(<a id=\"cit-Hellard2006\" href=\"#call-Hellard2006\">Hellard, Avalos <em>et al.</em>, 2006</a>) Hellard Philippe, Avalos Marta, Lacoste Lucien <em>et al.</em>, ``_Assessing the limitations of the Banister model in monitoring training_'', J Sports Sci, vol. 24, number 5, pp. 509--520,  2006.\n",
    "\n"
   ]
  },
  {
   "cell_type": "code",
   "execution_count": null,
   "metadata": {},
   "outputs": [],
   "source": []
  }
 ],
 "metadata": {
  "hide_input": false,
  "kernelspec": {
   "display_name": "Python3 Michael",
   "language": "python",
   "name": "python3"
  },
  "language_info": {
   "codemirror_mode": {
    "name": "ipython",
    "version": 3
   },
   "file_extension": ".py",
   "mimetype": "text/x-python",
   "name": "python",
   "nbconvert_exporter": "python",
   "pygments_lexer": "ipython3",
   "version": "3.6.8"
  },
  "latex_envs": {
   "LaTeX_envs_menu_present": true,
   "autoclose": false,
   "autocomplete": true,
   "bibliofile": "biblio.bib",
   "cite_by": "apalike",
   "current_citInitial": 1,
   "eqLabelWithNumbers": true,
   "eqNumInitial": 1,
   "hotkeys": {
    "equation": "Ctrl-E",
    "itemize": "Ctrl-I"
   },
   "labels_anchors": false,
   "latex_user_defs": false,
   "report_style_numbering": false,
   "user_envs_cfg": false
  },
  "toc": {
   "base_numbering": 1,
   "nav_menu": {
    "height": "275px",
    "width": "300px"
   },
   "number_sections": true,
   "sideBar": true,
   "skip_h1_title": true,
   "title_cell": "Table of Contents",
   "title_sidebar": "Contents",
   "toc_cell": false,
   "toc_position": {},
   "toc_section_display": true,
   "toc_window_display": false
  }
 },
 "nbformat": 4,
 "nbformat_minor": 2
}
